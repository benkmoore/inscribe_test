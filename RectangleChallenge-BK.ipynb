{
 "cells": [
  {
   "cell_type": "code",
   "execution_count": 2,
   "id": "universal-charity",
   "metadata": {},
   "outputs": [],
   "source": [
    "import os\n",
    "import numpy as np\n",
    "\n",
    "from bisect import bisect_right, bisect_left"
   ]
  },
  {
   "cell_type": "code",
   "execution_count": 3,
   "id": "equipped-period",
   "metadata": {},
   "outputs": [],
   "source": [
    "class Rectangle():\n",
    "    def __init__(self, x, y, width, height):\n",
    "        self.x = x\n",
    "        self.y = y\n",
    "        self.width = width\n",
    "        self.height = height\n",
    "        \n",
    "    def GetCentroid(self):\n",
    "        return (self.x + self.width/2.0, self.y + self.height/2.0)"
   ]
  },
  {
   "cell_type": "code",
   "execution_count": 4,
   "id": "seasonal-midwest",
   "metadata": {},
   "outputs": [],
   "source": [
    "class UUIDRectangle(Rectangle):\n",
    "    def __init__(self, x, y, width, height, uuid):\n",
    "        super().__init__(x, y, width, height)\n",
    "        self.assigned_to_set = False\n",
    "        self.uuid = uuid"
   ]
  },
  {
   "cell_type": "code",
   "execution_count": 5,
   "id": "light-spouse",
   "metadata": {},
   "outputs": [],
   "source": [
    "def PrintMaximalSet(maximal_set):\n",
    "    for i, rectangle in enumerate(maximal_set):\n",
    "        if i < len(maximal_set) - 1:\n",
    "            print(\"{}, \".format(rectangle.uuid), end = '')\n",
    "        else: \n",
    "            print(\"{}\".format(rectangle.uuid), end = '')"
   ]
  },
  {
   "cell_type": "code",
   "execution_count": 6,
   "id": "civilian-laser",
   "metadata": {},
   "outputs": [],
   "source": [
    "def PrintMaximalSets(maximal_sets):\n",
    "    for maximal_set in sorted(maximal_sets, key=len, reverse=True):\n",
    "        PrintMaximalSet(maximal_set)\n",
    "        print('')"
   ]
  },
  {
   "cell_type": "code",
   "execution_count": 8,
   "id": "functioning-repository",
   "metadata": {},
   "outputs": [],
   "source": [
    "def GetIntersectionMembers(curr, rectangles):\n",
    "    remainder = rectangles\n",
    "\n",
    "    # x axis\n",
    "    remainder.sort(key=lambda r: r.x + r.width)\n",
    "    list_bc2 = [r.x + r.width for r in remainder] \n",
    "    idx = bisect_right(list_bc2, curr.x)\n",
    "    remainder = remainder[max(0,idx):]\n",
    "\n",
    "    remainder.sort(key=lambda r: r.x)\n",
    "    list_bc1 = [r.x for r in remainder] \n",
    "    idx = bisect_left(list_bc1, curr.x + curr.width)\n",
    "    remainder = remainder[0:min(idx, len(remainder))]\n",
    "\n",
    "    # y axis\n",
    "    remainder.sort(key=lambda r: r.y + r.height)\n",
    "    list_bc2 = [r.y + r.height for r in remainder] \n",
    "    idx = bisect_right(list_bc2, curr.y)\n",
    "    remainder = remainder[max(0,idx):]\n",
    "\n",
    "    remainder.sort(key=lambda r: r.y)\n",
    "    list_bc1 = [r.y for r in remainder] \n",
    "    idx = bisect_left(list_bc1, curr.y + curr.height)\n",
    "    remainder = remainder[0:min(idx, len(remainder))]\n",
    "    \n",
    "    intersection_members = remainder\n",
    "    \n",
    "    return intersection_members\n",
    "    "
   ]
  },
  {
   "cell_type": "code",
   "execution_count": 7,
   "id": "guided-nomination",
   "metadata": {},
   "outputs": [],
   "source": [
    "rectangle_1 = UUIDRectangle(1, 1, 5, 5, 1)\n",
    "rectangle_2 = UUIDRectangle(4, 4, 3, 3, 2)\n",
    "rectangle_3 = UUIDRectangle(6, 1, 1, 1, 3)\n",
    "rectangle_4 = UUIDRectangle(2, 2, 3, 3, 4)\n",
    "rectangle_5 = UUIDRectangle(1, 4, 1, 3, 5)\n",
    "\n",
    "rectangles = [rectangle_1, rectangle_2, rectangle_3, rectangle_4, rectangle_5]"
   ]
  },
  {
   "cell_type": "code",
   "execution_count": 46,
   "id": "later-complexity",
   "metadata": {},
   "outputs": [],
   "source": [
    "def CreateRectanglesFromData():\n",
    "    rectangles = []\n",
    "    data = np.loadtxt(os.getcwd() + '/rectangles.txt')\n",
    "\n",
    "    for i in range(0, data.shape[0]):\n",
    "        rectangle = UUIDRectangle(data[i,0], data[i,0], data[i,0], data[i,0], i)\n",
    "        rectangles.append(rectangle)\n",
    "    \n",
    "    return rectangles"
   ]
  },
  {
   "cell_type": "code",
   "execution_count": 31,
   "id": "amateur-value",
   "metadata": {},
   "outputs": [],
   "source": [
    "def BuildGraph(rectangles):\n",
    "    G = {}\n",
    "    for r in rectangles:\n",
    "        G[r.uuid] = []\n",
    "        intersects = GetIntersectionMembers(r, rectangles)\n",
    "        for i in intersects:\n",
    "            if i.uuid == r.uuid: continue\n",
    "            G[r.uuid].append(i.uuid)\n",
    "                \n",
    "    return G"
   ]
  },
  {
   "cell_type": "code",
   "execution_count": 83,
   "id": "leading-workstation",
   "metadata": {},
   "outputs": [],
   "source": [
    "def BK(R, P, X, G, max_sets):\n",
    "    if len(P) == 0 and len(X) == 0:\n",
    "        max_sets.append(R)\n",
    "    \n",
    "    for v in list(P):\n",
    "        N_v = set(G[v])\n",
    "        max_sets = BK(R.union(set({v})), P.intersection(N_v), X.intersection(N_v), G, max_sets)\n",
    "        P.remove(v)\n",
    "        X.add(v)\n",
    "        \n",
    "    return max_sets"
   ]
  },
  {
   "cell_type": "code",
   "execution_count": 84,
   "id": "historical-dance",
   "metadata": {},
   "outputs": [],
   "source": [
    "R = set()\n",
    "X = set()\n",
    "G = BuildGraph(rectangles)\n",
    "P = set(G.keys())\n",
    "max_sets = []"
   ]
  },
  {
   "cell_type": "code",
   "execution_count": 85,
   "id": "tender-induction",
   "metadata": {},
   "outputs": [
    {
     "data": {
      "text/plain": [
       "[{1, 2, 4}, {1, 5}, {3}]"
      ]
     },
     "execution_count": 85,
     "metadata": {},
     "output_type": "execute_result"
    }
   ],
   "source": [
    "BK(R, P, X, G, max_sets)"
   ]
  },
  {
   "cell_type": "code",
   "execution_count": 86,
   "id": "posted-ordinary",
   "metadata": {},
   "outputs": [
    {
     "data": {
      "text/plain": [
       "{5: [1], 4: [1, 2], 1: [4, 5, 2], 2: [1, 4], 3: []}"
      ]
     },
     "execution_count": 86,
     "metadata": {},
     "output_type": "execute_result"
    }
   ],
   "source": []
  },
  {
   "cell_type": "code",
   "execution_count": null,
   "id": "fifteen-encoding",
   "metadata": {},
   "outputs": [],
   "source": []
  }
 ],
 "metadata": {
  "kernelspec": {
   "display_name": "venv",
   "language": "python",
   "name": "venv"
  },
  "language_info": {
   "codemirror_mode": {
    "name": "ipython",
    "version": 3
   },
   "file_extension": ".py",
   "mimetype": "text/x-python",
   "name": "python",
   "nbconvert_exporter": "python",
   "pygments_lexer": "ipython3",
   "version": "3.8.5"
  }
 },
 "nbformat": 4,
 "nbformat_minor": 5
}
