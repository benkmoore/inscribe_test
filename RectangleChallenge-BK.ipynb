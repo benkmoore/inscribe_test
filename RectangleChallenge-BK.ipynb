{
 "cells": [
  {
   "cell_type": "code",
   "execution_count": 1,
   "id": "universal-charity",
   "metadata": {},
   "outputs": [],
   "source": [
    "import os\n",
    "import numpy as np\n",
    "import random\n",
    "import timeit\n",
    "\n",
    "from bisect import bisect_right, bisect_left"
   ]
  },
  {
   "cell_type": "code",
   "execution_count": 2,
   "id": "equipped-period",
   "metadata": {},
   "outputs": [],
   "source": [
    "class Rectangle():\n",
    "    def __init__(self, x, y, width, height):\n",
    "        self.x = x\n",
    "        self.y = y\n",
    "        self.width = width\n",
    "        self.height = height"
   ]
  },
  {
   "cell_type": "code",
   "execution_count": 3,
   "id": "seasonal-midwest",
   "metadata": {},
   "outputs": [],
   "source": [
    "class UUIDRectangle(Rectangle):\n",
    "    def __init__(self, x, y, width, height, uuid):\n",
    "        super().__init__(x, y, width, height)\n",
    "        self.assigned_to_set = False\n",
    "        self.uuid = uuid"
   ]
  },
  {
   "cell_type": "code",
   "execution_count": 4,
   "id": "light-spouse",
   "metadata": {},
   "outputs": [],
   "source": [
    "class PrintUtils():\n",
    "    def PrintMaximalSet(maximal_set):\n",
    "        for i, rectangle in enumerate(maximal_set):\n",
    "            if i < len(maximal_set) - 1:\n",
    "                print(\"{}, \".format(rectangle.uuid), end = '')\n",
    "            else: \n",
    "                print(\"{}\".format(rectangle.uuid), end = '')\n",
    "                \n",
    "    def PrintMaximalSets(maximal_sets):\n",
    "        for maximal_set in sorted(maximal_sets, key=len, reverse=True):\n",
    "            PrintMaximalSet(maximal_set)\n",
    "            print('')"
   ]
  },
  {
   "cell_type": "code",
   "execution_count": 62,
   "id": "dramatic-linux",
   "metadata": {},
   "outputs": [],
   "source": [
    "def IntersectingRectanglesByAxis(curr, rectangles, axis, dimension):\n",
    "    rectangles.sort(key=lambda r: getattr(r, axis) + getattr(r, dimension))\n",
    "    upper_right_corners = [getattr(r, axis) + getattr(r, dimension) for r in rectangles] \n",
    "    idx = bisect_right(upper_right_corners, getattr(curr, axis))\n",
    "    rectangles = rectangles[max(0,idx):]\n",
    "\n",
    "    rectangles.sort(key=lambda r: getattr(r, axis))\n",
    "    lower_left_corners = [getattr(r, axis) for r in rectangles] \n",
    "    idx = bisect_left(lower_left_corners, getattr(curr, axis) + getattr(curr, dimension))\n",
    "    rectangles = rectangles[0:min(idx, len(rectangles))]\n",
    "        \n",
    "    return rectangles\n",
    "\n",
    "def GetIntersectingRectangles(curr, rectangles):\n",
    "    rectangles = IntersectingRectanglesByAxis(curr, rectangles, 'x', 'width')\n",
    "    rectangles = IntersectingRectanglesByAxis(curr, rectangles, 'y', 'height')\n",
    "    \n",
    "    return rectangles"
   ]
  },
  {
   "cell_type": "code",
   "execution_count": 55,
   "id": "later-complexity",
   "metadata": {},
   "outputs": [],
   "source": [
    "def CreateRectanglesFromData():\n",
    "    rectangles = []\n",
    "    data = np.loadtxt(os.getcwd() + '/rectangles.txt')\n",
    "\n",
    "    for i in range(0, data.shape[0]):\n",
    "        rectangle = UUIDRectangle(data[i,0], data[i,0], data[i,0], data[i,0], i)\n",
    "        rectangles.append(rectangle)\n",
    "    \n",
    "    return rectangles"
   ]
  },
  {
   "cell_type": "code",
   "execution_count": 63,
   "id": "amateur-value",
   "metadata": {},
   "outputs": [],
   "source": [
    "def BuildGraph(rectangles):\n",
    "    G = {}\n",
    "    for r in list(rectangles):\n",
    "        G[r.uuid] = []\n",
    "        intersects = GetIntersectingRectangles(r, rectangles)\n",
    "        for i in intersects:\n",
    "            if i.uuid == r.uuid: continue\n",
    "            G[r.uuid].append(i.uuid)\n",
    "                \n",
    "    return G"
   ]
  },
  {
   "cell_type": "code",
   "execution_count": 64,
   "id": "leading-workstation",
   "metadata": {},
   "outputs": [],
   "source": [
    "def BK(R, P, X, G, max_sets):\n",
    "    if len(P) == 0 and len(X) == 0:\n",
    "        max_sets.append(R)\n",
    "    \n",
    "    for v in list(P):\n",
    "        N_v = set(G[v])\n",
    "        max_sets = BK(R.union(set({v})), P.intersection(N_v), X.intersection(N_v), G, max_sets)\n",
    "        P.remove(v)\n",
    "        X.add(v)\n",
    "        \n",
    "    return max_sets"
   ]
  },
  {
   "cell_type": "code",
   "execution_count": 71,
   "id": "golden-determination",
   "metadata": {},
   "outputs": [],
   "source": [
    "def BKPivot(R, P, X, G, max_sets):\n",
    "    if len(P) == 0 and len(X) == 0:\n",
    "        max_sets.append(R)\n",
    "    \n",
    "    u = random.sample(P.union(X), 1)[0]\n",
    "    N_u = set(G[u])\n",
    "    for v in list(P.difference(N_u)):\n",
    "        N_v = set(G[v])\n",
    "        max_sets = BK(R.union(set({v})), P.intersection(N_v), X.intersection(N_v), G, max_sets)\n",
    "        P.remove(v)\n",
    "        X.add(v)\n",
    "        \n",
    "    return max_sets"
   ]
  },
  {
   "cell_type": "code",
   "execution_count": 72,
   "id": "adjusted-married",
   "metadata": {},
   "outputs": [],
   "source": [
    "def BKPivotByDegree(R, P, X, G, max_sets, rs, vs_by_degree):\n",
    "    if len(P) == 0 and len(X) == 0:\n",
    "        PrintMaximalSet(R)\n",
    "        max_sets.append(R)\n",
    "        \n",
    "    tmp = P.union(X)\n",
    "    i = 0\n",
    "    while True:\n",
    "        if vs_by_degree[i] in tmp:\n",
    "            u = vs_by_degree[i]\n",
    "            break\n",
    "        i += 1\n",
    "    del vs_by_degree[i]\n",
    "\n",
    "    N_u = set(G[u])\n",
    "    for v in list(P.difference(N_u)):\n",
    "        N_v = set(G[v])\n",
    "        max_sets = BK(R.union(set({v})), P.intersection(N_v), X.intersection(N_v), G, max_sets)\n",
    "        P.remove(v)\n",
    "        X.add(v)\n",
    "        \n",
    "    return max_sets"
   ]
  },
  {
   "cell_type": "code",
   "execution_count": 75,
   "id": "verbal-stevens",
   "metadata": {},
   "outputs": [],
   "source": [
    "def FindMaximalSets(rectangles, pivot = False, by_degree = False):\n",
    "    R = set()\n",
    "    X = set()\n",
    "    G = BuildGraph(rectangles)\n",
    "    P = set(G.keys())\n",
    "    max_sets = []\n",
    "    \n",
    "    if pivot:\n",
    "        return BKPivot(R, P, X, G, max_sets)\n",
    "    elif by_degree:\n",
    "        vs_by_degree = sorted(G, key=lambda k: len(G[k]), reverse=True)\n",
    "        return BKPivotByDegree(R, P, X, G, max_sets, rectangles, vs_by_degree)\n",
    "    else:\n",
    "        return BK(R, P, X, G, max_sets)"
   ]
  },
  {
   "cell_type": "code",
   "execution_count": 68,
   "id": "tender-induction",
   "metadata": {},
   "outputs": [
    {
     "data": {
      "text/plain": [
       "[{1, 2, 4}, {1, 5}, {3}]"
      ]
     },
     "execution_count": 68,
     "metadata": {},
     "output_type": "execute_result"
    }
   ],
   "source": [
    "rectangle_1 = UUIDRectangle(1, 1, 5, 5, 1)\n",
    "rectangle_2 = UUIDRectangle(4, 4, 3, 3, 2)\n",
    "rectangle_3 = UUIDRectangle(6, 1, 1, 1, 3)\n",
    "rectangle_4 = UUIDRectangle(2, 2, 3, 3, 4)\n",
    "rectangle_5 = UUIDRectangle(1, 4, 1, 3, 5)\n",
    "rectangles = [rectangle_1, rectangle_2, rectangle_3, rectangle_4, rectangle_5]\n",
    "\n",
    "FindMaxSets(rectangles)"
   ]
  },
  {
   "cell_type": "code",
   "execution_count": 69,
   "id": "popular-diabetes",
   "metadata": {},
   "outputs": [
    {
     "data": {
      "text/plain": [
       "[{0, 1, 3, 5, 8, 12, 13, 14, 16, 17, 18},\n",
       " {1, 2, 3, 6, 8, 11, 15, 16},\n",
       " {2, 6, 7, 11, 15},\n",
       " {4},\n",
       " {7, 19},\n",
       " {9},\n",
       " {10}]"
      ]
     },
     "execution_count": 69,
     "metadata": {},
     "output_type": "execute_result"
    }
   ],
   "source": [
    "FindMaxSets(CreateRectanglesFromData()[0:20])"
   ]
  },
  {
   "cell_type": "code",
   "execution_count": 31,
   "id": "fifteen-encoding",
   "metadata": {},
   "outputs": [],
   "source": [
    "test1 = FindMaxSets(CreateRectanglesFromData()[100:140], area=True)"
   ]
  },
  {
   "cell_type": "code",
   "execution_count": 73,
   "id": "adopted-ottawa",
   "metadata": {},
   "outputs": [
    {
     "name": "stdout",
     "output_type": "stream",
     "text": [
      "BK time: 0.5588691879966063\n"
     ]
    }
   ],
   "source": [
    "print(\"BK time: {}\".format(timeit.timeit(stmt='''{} '''.format(FindMaxSets(CreateRectanglesFromData()[0:20])))))"
   ]
  },
  {
   "cell_type": "code",
   "execution_count": 74,
   "id": "contemporary-scott",
   "metadata": {},
   "outputs": [
    {
     "name": "stdout",
     "output_type": "stream",
     "text": [
      "BK area time: 0.930828725991887\n"
     ]
    }
   ],
   "source": [
    "print(\"BK area time: {}\".format(timeit.timeit(stmt='''{} '''.format(FindMaxSets(CreateRectanglesFromData()[0:30], area= True)))))"
   ]
  },
  {
   "cell_type": "code",
   "execution_count": 17,
   "id": "settled-forge",
   "metadata": {},
   "outputs": [],
   "source": [
    "def FindMaximalSetsFromRectangles(rectangles):\n",
    "    maximal_sets = []\n",
    "    \n",
    "    for rectangle in rectangles:\n",
    "        if rectangle.assigned_to_set: continue\n",
    "\n",
    "        single_maximal_set = []\n",
    "        single_maximal_set.append(rectangle)\n",
    "        rectangle.assigned_to_set = True\n",
    "\n",
    "        for candidate in rectangles:\n",
    "            if candidate.uuid == rectangle.uuid: continue\n",
    "            if CheckIntersectionOfRectangle(rectangle, candidate) \\\n",
    "                and CheckCandidateIntersectsWithSetMembers(candidate, single_maximal_set):\n",
    "                single_maximal_set.append(candidate)\n",
    "                candidate.assigned_to_set = True\n",
    "        maximal_sets.append(single_maximal_set)\n",
    "    \n",
    "    return maximal_sets"
   ]
  },
  {
   "cell_type": "code",
   "execution_count": 18,
   "id": "basic-rally",
   "metadata": {},
   "outputs": [
    {
     "ename": "NameError",
     "evalue": "name 'CheckIntersectionOfRectangle' is not defined",
     "output_type": "error",
     "traceback": [
      "\u001b[0;31m---------------------------------------------------------------------------\u001b[0m",
      "\u001b[0;31mNameError\u001b[0m                                 Traceback (most recent call last)",
      "\u001b[0;32m<ipython-input-18-854a195207fa>\u001b[0m in \u001b[0;36m<module>\u001b[0;34m\u001b[0m\n\u001b[1;32m      3\u001b[0m \u001b[0mL\u001b[0m \u001b[0;34m=\u001b[0m \u001b[0;36m21\u001b[0m\u001b[0;34m\u001b[0m\u001b[0;34m\u001b[0m\u001b[0m\n\u001b[1;32m      4\u001b[0m \u001b[0mt0\u001b[0m \u001b[0;34m=\u001b[0m \u001b[0mtime\u001b[0m\u001b[0;34m.\u001b[0m\u001b[0mtime\u001b[0m\u001b[0;34m(\u001b[0m\u001b[0;34m)\u001b[0m\u001b[0;34m\u001b[0m\u001b[0;34m\u001b[0m\u001b[0m\n\u001b[0;32m----> 5\u001b[0;31m \u001b[0mmaximal_sets\u001b[0m \u001b[0;34m=\u001b[0m \u001b[0mFindMaximalSetsFromRectangles\u001b[0m\u001b[0;34m(\u001b[0m\u001b[0mCreateRectanglesFromData\u001b[0m\u001b[0;34m(\u001b[0m\u001b[0;34m)\u001b[0m\u001b[0;34m[\u001b[0m\u001b[0mS\u001b[0m\u001b[0;34m:\u001b[0m\u001b[0mL\u001b[0m\u001b[0;34m]\u001b[0m\u001b[0;34m)\u001b[0m\u001b[0;34m\u001b[0m\u001b[0;34m\u001b[0m\u001b[0m\n\u001b[0m\u001b[1;32m      6\u001b[0m \u001b[0mt1\u001b[0m \u001b[0;34m=\u001b[0m \u001b[0mtime\u001b[0m\u001b[0;34m.\u001b[0m\u001b[0mtime\u001b[0m\u001b[0;34m(\u001b[0m\u001b[0;34m)\u001b[0m\u001b[0;34m\u001b[0m\u001b[0;34m\u001b[0m\u001b[0m\n\u001b[1;32m      7\u001b[0m \u001b[0mprint\u001b[0m\u001b[0;34m(\u001b[0m\u001b[0mt1\u001b[0m\u001b[0;34m-\u001b[0m\u001b[0mt0\u001b[0m\u001b[0;34m)\u001b[0m\u001b[0;34m\u001b[0m\u001b[0;34m\u001b[0m\u001b[0m\n",
      "\u001b[0;32m<ipython-input-17-473f8feabfea>\u001b[0m in \u001b[0;36mFindMaximalSetsFromRectangles\u001b[0;34m(rectangles)\u001b[0m\n\u001b[1;32m     11\u001b[0m         \u001b[0;32mfor\u001b[0m \u001b[0mcandidate\u001b[0m \u001b[0;32min\u001b[0m \u001b[0mrectangles\u001b[0m\u001b[0;34m:\u001b[0m\u001b[0;34m\u001b[0m\u001b[0;34m\u001b[0m\u001b[0m\n\u001b[1;32m     12\u001b[0m             \u001b[0;32mif\u001b[0m \u001b[0mcandidate\u001b[0m\u001b[0;34m.\u001b[0m\u001b[0muuid\u001b[0m \u001b[0;34m==\u001b[0m \u001b[0mrectangle\u001b[0m\u001b[0;34m.\u001b[0m\u001b[0muuid\u001b[0m\u001b[0;34m:\u001b[0m \u001b[0;32mcontinue\u001b[0m\u001b[0;34m\u001b[0m\u001b[0;34m\u001b[0m\u001b[0m\n\u001b[0;32m---> 13\u001b[0;31m             \u001b[0;32mif\u001b[0m \u001b[0mCheckIntersectionOfRectangle\u001b[0m\u001b[0;34m(\u001b[0m\u001b[0mrectangle\u001b[0m\u001b[0;34m,\u001b[0m \u001b[0mcandidate\u001b[0m\u001b[0;34m)\u001b[0m\u001b[0;31m \u001b[0m\u001b[0;31m\\\u001b[0m\u001b[0;34m\u001b[0m\u001b[0;34m\u001b[0m\u001b[0m\n\u001b[0m\u001b[1;32m     14\u001b[0m                 \u001b[0;32mand\u001b[0m \u001b[0mCheckCandidateIntersectsWithSetMembers\u001b[0m\u001b[0;34m(\u001b[0m\u001b[0mcandidate\u001b[0m\u001b[0;34m,\u001b[0m \u001b[0msingle_maximal_set\u001b[0m\u001b[0;34m)\u001b[0m\u001b[0;34m:\u001b[0m\u001b[0;34m\u001b[0m\u001b[0;34m\u001b[0m\u001b[0m\n\u001b[1;32m     15\u001b[0m                 \u001b[0msingle_maximal_set\u001b[0m\u001b[0;34m.\u001b[0m\u001b[0mappend\u001b[0m\u001b[0;34m(\u001b[0m\u001b[0mcandidate\u001b[0m\u001b[0;34m)\u001b[0m\u001b[0;34m\u001b[0m\u001b[0;34m\u001b[0m\u001b[0m\n",
      "\u001b[0;31mNameError\u001b[0m: name 'CheckIntersectionOfRectangle' is not defined"
     ]
    }
   ],
   "source": [
    "import time\n",
    "S = 15\n",
    "L = 21\n",
    "t0 = time.time()\n",
    "maximal_sets = FindMaximalSetsFromRectangles(CreateRectanglesFromData()[S:L])\n",
    "t1 = time.time()\n",
    "print(t1-t0)\n",
    "\n",
    "t0 = time.time()\n",
    "test1 = FindMaxSets(CreateRectanglesFromData()[S:L])\n",
    "t1 = time.time()\n",
    "print(t1-t0)\n",
    "\n",
    "M_sets = []\n",
    "for s in maximal_sets:\n",
    "    tmp_set = set()\n",
    "    for r in s:\n",
    "        tmp_set.add(r.uuid)\n",
    "    M_sets.append(tmp_set)\n",
    "\n",
    "for i in M_sets:\n",
    "    if i not in test1:\n",
    "        print(\"No Match\")\n",
    "        break\n",
    "\n",
    "for i in test1:\n",
    "    if i not in M_sets:\n",
    "        print(i)\n",
    "        print(\"No Match test1\")\n",
    "        break\n",
    "        \n",
    "print(test1)\n",
    "print(M_sets)"
   ]
  },
  {
   "cell_type": "code",
   "execution_count": null,
   "id": "unable-management",
   "metadata": {},
   "outputs": [],
   "source": []
  },
  {
   "cell_type": "code",
   "execution_count": null,
   "id": "physical-ensemble",
   "metadata": {},
   "outputs": [],
   "source": [
    "data = np.loadtxt(\"rectangles.txt\")"
   ]
  },
  {
   "cell_type": "code",
   "execution_count": null,
   "id": "sustained-passing",
   "metadata": {},
   "outputs": [],
   "source": [
    "data.shape"
   ]
  },
  {
   "cell_type": "code",
   "execution_count": null,
   "id": "developed-bicycle",
   "metadata": {},
   "outputs": [],
   "source": [
    "import matplotlib.pyplot as plt"
   ]
  },
  {
   "cell_type": "code",
   "execution_count": null,
   "id": "visible-welding",
   "metadata": {},
   "outputs": [],
   "source": [
    "plt.figure(figsize=(8, 5))\n",
    "import matplotlib.cm as cm\n",
    "rectangles = CreateRectanglesFromData()[0:1000]\n",
    "G = BuildGraph(rectangles)\n",
    "\n",
    "for r in rectangles:\n",
    "    plt.scatter(r.x, r.y, c=len(G[r.uuid])/5000)\n",
    "plt.colorbar()\n",
    "plt.show()"
   ]
  },
  {
   "cell_type": "code",
   "execution_count": null,
   "id": "endless-journal",
   "metadata": {},
   "outputs": [],
   "source": [
    "plt.figure(figsize=(8, 5))\n",
    "import matplotlib.cm as cm\n",
    "c_in = data[:,3]*data[:,2]\n",
    "c_in = c_in / np.amax(c_in)\n",
    "colors = cm.rainbow(c_in)\n",
    "\n",
    "plt.scatter(data[:,0], data[:,1], c=colors)\n",
    "plt.colorbar()\n",
    "plt.show()"
   ]
  },
  {
   "cell_type": "code",
   "execution_count": null,
   "id": "atomic-crime",
   "metadata": {},
   "outputs": [],
   "source": [
    "def BuildSampleGraphDegrees(N):\n",
    "    D = []\n",
    "    for n in range(0,20):\n",
    "        G = BuildGraph(random.sample(CreateRectanglesFromData(), N)) #CreateRectanglesFromData()[n*500:(n+1)*500])\n",
    "        for v in G:\n",
    "            D.append(len(G[v]))\n",
    "    \n",
    "    return D\n",
    "\n",
    "N = 6\n",
    "fig, axes = plt.subplots(nrows=1, ncols=N, figsize=(22, 6))\n",
    "V_list = [10, 50, 100, 500, 1000, 5000]\n",
    "D_list = []\n",
    "for i, ax in enumerate(axes.flatten()):\n",
    "    num_v = V_list[i]\n",
    "    D = BuildSampleGraphDegrees(num_v)\n",
    "    hist, bins = np.histogram(np.asarray(D), bins=30)\n",
    "    ax.hist(D, bins)\n",
    "    ax.title.set_text(\"|V|: {:.1f}, D_avg: {:.1f}\".format(num_v, sum(D)/len(D)))\n",
    "    \n",
    "    D_list.append(sum(D)/len(D))\n",
    "\n",
    "plt.show()"
   ]
  },
  {
   "cell_type": "code",
   "execution_count": null,
   "id": "greater-philosophy",
   "metadata": {},
   "outputs": [],
   "source": [
    "fig1, ax1 = plt.subplots(nrows=1, ncols=1, figsize=(8, 6))\n",
    "plt.plot(V_list, D_list)\n",
    "plt.title(\"Avg degree vs |V|\")\n",
    "plt.xlabel(\"Number of vertices, |V|\")\n",
    "plt.ylabel(\"Avg vertex degree\")\n",
    "plt.show()"
   ]
  },
  {
   "cell_type": "code",
   "execution_count": null,
   "id": "parallel-pride",
   "metadata": {},
   "outputs": [],
   "source": [
    "plt.figure(figsize=(8, 5))\n",
    "plt.scatter(data[0:100,0], data[0:100,1])\n",
    "plt.scatter(data[1000:1100,0], data[1000:1100,1])\n",
    "plt.scatter(data[10000:10100,0], data[10000:10100,1])\n",
    "plt.show()"
   ]
  },
  {
   "cell_type": "code",
   "execution_count": null,
   "id": "derived-sender",
   "metadata": {},
   "outputs": [],
   "source": [
    "np.unique(data, axis=0).shape"
   ]
  },
  {
   "cell_type": "code",
   "execution_count": null,
   "id": "combined-think",
   "metadata": {},
   "outputs": [],
   "source": [
    "np.unique(data[:,0:2], axis=0).shape"
   ]
  },
  {
   "cell_type": "code",
   "execution_count": null,
   "id": "unknown-article",
   "metadata": {},
   "outputs": [],
   "source": [
    "H, xedges, yedges = np.histogram2d(data[:,2], data[:,3], bins=100)\n",
    "fig = plt.figure(figsize=(20, 10))\n",
    "ax = fig.add_subplot(111, title='Width vs Height', aspect='equal')\n",
    "X, Y = np.meshgrid(xedges, yedges)\n",
    "ax.pcolormesh(X, Y, H)\n",
    "plt.show()"
   ]
  },
  {
   "cell_type": "code",
   "execution_count": null,
   "id": "charitable-perception",
   "metadata": {},
   "outputs": [],
   "source": [
    "hist, bins = np.histogram(data[:,2], bins=20)\n",
    "fig, (ax1, ax2, ax3) = plt.subplots(1, 3)\n",
    "ax1.hist(data[:,0], bins)\n",
    "ax1.title.set_text('Width')\n",
    "\n",
    "hist, bins = np.histogram(data[:,3], bins=20)\n",
    "ax2.hist(data[:,3], bins)\n",
    "ax2.title.set_text('Height')\n",
    "\n",
    "hist, bins = np.histogram(data[:,2]*data[:,3], bins=20)\n",
    "ax3.hist(data[:,2]*data[:,3], bins)\n",
    "ax3.title.set_text('Area')\n",
    "    \n",
    "fig.set_figheight(5)\n",
    "fig.set_figwidth(15)\n",
    "plt.show()"
   ]
  },
  {
   "cell_type": "code",
   "execution_count": null,
   "id": "soviet-hearing",
   "metadata": {},
   "outputs": [],
   "source": [
    "idx_max = np.argmax(data[:,2]*data[:,3])"
   ]
  },
  {
   "cell_type": "code",
   "execution_count": null,
   "id": "hourly-classification",
   "metadata": {},
   "outputs": [],
   "source": [
    "data[idx_max,:]"
   ]
  },
  {
   "cell_type": "code",
   "execution_count": null,
   "id": "accessory-avenue",
   "metadata": {},
   "outputs": [],
   "source": []
  }
 ],
 "metadata": {
  "kernelspec": {
   "display_name": "venv",
   "language": "python",
   "name": "venv"
  },
  "language_info": {
   "codemirror_mode": {
    "name": "ipython",
    "version": 3
   },
   "file_extension": ".py",
   "mimetype": "text/x-python",
   "name": "python",
   "nbconvert_exporter": "python",
   "pygments_lexer": "ipython3",
   "version": "3.8.5"
  }
 },
 "nbformat": 4,
 "nbformat_minor": 5
}
