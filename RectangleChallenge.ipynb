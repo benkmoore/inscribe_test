{
 "cells": [
  {
   "cell_type": "code",
   "execution_count": 34,
   "id": "universal-charity",
   "metadata": {},
   "outputs": [],
   "source": [
    "import os\n",
    "import numpy as np\n",
    "\n",
    "from bisect import bisect_right, bisect_left"
   ]
  },
  {
   "cell_type": "code",
   "execution_count": 35,
   "id": "equipped-period",
   "metadata": {},
   "outputs": [],
   "source": [
    "class Rectangle():\n",
    "    def __init__(self, x, y, width, height):\n",
    "        self.x = x\n",
    "        self.y = y\n",
    "        self.width = width\n",
    "        self.height = height\n",
    "        \n",
    "    def GetCentroid(self):\n",
    "        return (self.x + self.width/2.0, self.y + self.height/2.0)"
   ]
  },
  {
   "cell_type": "code",
   "execution_count": 36,
   "id": "seasonal-midwest",
   "metadata": {},
   "outputs": [],
   "source": [
    "class UUIDRectangle(Rectangle):\n",
    "    def __init__(self, x, y, width, height, uuid):\n",
    "        super().__init__(x, y, width, height)\n",
    "        self.assigned_to_set = False\n",
    "        self.uuid = uuid"
   ]
  },
  {
   "cell_type": "code",
   "execution_count": 37,
   "id": "surprising-trail",
   "metadata": {},
   "outputs": [],
   "source": [
    "def CheckIntersectionOfRectangle(a, b):\n",
    "    # Check if rectangles are either side of eachother\n",
    "    if (a.x >= b.x + b.width or b.x >= a.x + a.width):\n",
    "        return False;\n",
    "    \n",
    "    # Check if rectangles are above or below eachother\n",
    "    if (a.y >= b.y + b.height or b.y >= a.y + a.height):\n",
    "        return False;\n",
    "    \n",
    "    return True"
   ]
  },
  {
   "cell_type": "code",
   "execution_count": 38,
   "id": "together-flour",
   "metadata": {},
   "outputs": [],
   "source": [
    "def CheckCandidateIntersectsWithSetMembers(candidate, maximal_set):    \n",
    "    for rectangle in maximal_set:\n",
    "        if not CheckIntersectionOfRectangle(candidate, rectangle):\n",
    "            return False\n",
    "        \n",
    "    return True"
   ]
  },
  {
   "cell_type": "code",
   "execution_count": 39,
   "id": "european-pursuit",
   "metadata": {},
   "outputs": [],
   "source": [
    "# Unit test x axis\n",
    "rectangle_a = Rectangle(0, 0, 5, 5)\n",
    "rectangle_b = Rectangle(0, 1, 5, 5)\n",
    "assert CheckIntersectionOfRectangle(rectangle_a, rectangle_b) == True\n",
    "\n",
    "# Unit test x axis\n",
    "rectangle_a = Rectangle(0, 0, 5, 5)\n",
    "rectangle_b = Rectangle(0, 30, 5, 5)\n",
    "assert CheckIntersectionOfRectangle(rectangle_a, rectangle_b) == False"
   ]
  },
  {
   "cell_type": "code",
   "execution_count": 40,
   "id": "academic-guide",
   "metadata": {},
   "outputs": [],
   "source": [
    "# Unit test y axis\n",
    "rectangle_a = Rectangle(0, 0, 5, 5)\n",
    "rectangle_b = Rectangle(1, 0, 5, 5)\n",
    "assert CheckIntersectionOfRectangle(rectangle_a, rectangle_b) == True\n",
    "\n",
    "# Unit test y axis\n",
    "rectangle_a = Rectangle(0, 0, 5, 5)\n",
    "rectangle_b = Rectangle(30, 0, 5, 5)\n",
    "assert CheckIntersectionOfRectangle(rectangle_a, rectangle_b) == False"
   ]
  },
  {
   "cell_type": "code",
   "execution_count": 41,
   "id": "cosmetic-islam",
   "metadata": {},
   "outputs": [],
   "source": [
    "# Unit test same lower left corner point\n",
    "rectangle_a = Rectangle(0, 0, 5, 5)\n",
    "rectangle_b = Rectangle(0, 0, 5, 5)\n",
    "assert CheckIntersectionOfRectangle(rectangle_a, rectangle_b) == True\n",
    "\n",
    "# Unit test lower left corner and upper right corner\n",
    "rectangle_a = Rectangle(0, 0, 5, 5)\n",
    "rectangle_b = Rectangle(5, 5, 5, 5)\n",
    "assert CheckIntersectionOfRectangle(rectangle_a, rectangle_b) == False"
   ]
  },
  {
   "cell_type": "code",
   "execution_count": 42,
   "id": "light-spouse",
   "metadata": {},
   "outputs": [],
   "source": [
    "def PrintMaximalSet(maximal_set):\n",
    "    for i, rectangle in enumerate(maximal_set):\n",
    "        if i < len(maximal_set) - 1:\n",
    "            print(\"{}, \".format(rectangle.uuid), end = '')\n",
    "        else: \n",
    "            print(\"{}\".format(rectangle.uuid), end = '')"
   ]
  },
  {
   "cell_type": "code",
   "execution_count": 43,
   "id": "civilian-laser",
   "metadata": {},
   "outputs": [],
   "source": [
    "def PrintMaximalSets(maximal_sets):\n",
    "    for maximal_set in sorted(maximal_sets, key=len, reverse=True):\n",
    "        PrintMaximalSet(maximal_set)\n",
    "        print('')"
   ]
  },
  {
   "cell_type": "code",
   "execution_count": 44,
   "id": "shaped-mineral",
   "metadata": {},
   "outputs": [],
   "source": [
    "def FindMaximalSetsFromRectangles(rectangles):\n",
    "    maximal_sets = []\n",
    "    \n",
    "    for rectangle in rectangles:\n",
    "        if rectangle.assigned_to_set: continue\n",
    "\n",
    "        single_maximal_set = []\n",
    "        single_maximal_set.append(rectangle)\n",
    "        rectangle.assigned_to_set = True\n",
    "\n",
    "        for candidate in rectangles:\n",
    "            if candidate.uuid == rectangle.uuid: continue\n",
    "            if CheckIntersectionOfRectangle(rectangle, candidate) \\\n",
    "                and CheckCandidateIntersectsWithSetMembers(candidate, single_maximal_set):\n",
    "                single_maximal_set.append(candidate)\n",
    "                candidate.assigned_to_set = True\n",
    "        maximal_sets.append(single_maximal_set)\n",
    "    \n",
    "    return maximal_sets"
   ]
  },
  {
   "cell_type": "code",
   "execution_count": 45,
   "id": "guided-nomination",
   "metadata": {},
   "outputs": [
    {
     "name": "stdout",
     "output_type": "stream",
     "text": [
      "1, 2, 4\n",
      "5, 1\n",
      "3\n"
     ]
    }
   ],
   "source": [
    "rectangle_1 = UUIDRectangle(1, 1, 5, 5, 1)\n",
    "rectangle_2 = UUIDRectangle(4, 4, 3, 3, 2)\n",
    "rectangle_3 = UUIDRectangle(6, 1, 1, 1, 3)\n",
    "rectangle_4 = UUIDRectangle(2, 2, 3, 3, 4)\n",
    "rectangle_5 = UUIDRectangle(1, 4, 1, 3, 5)\n",
    "\n",
    "rectangles = [rectangle_1, rectangle_2, rectangle_3, rectangle_4, rectangle_5]\n",
    "\n",
    "maximal_sets = FindMaximalSetsFromRectangles(rectangles)\n",
    "            \n",
    "PrintMaximalSets(maximal_sets)"
   ]
  },
  {
   "cell_type": "code",
   "execution_count": 46,
   "id": "later-complexity",
   "metadata": {},
   "outputs": [],
   "source": [
    "def CreateRectanglesFromData():\n",
    "    rectangles = []\n",
    "    data = np.loadtxt(os.getcwd() + '/rectangles.txt')\n",
    "\n",
    "    for i in range(0, data.shape[0]):\n",
    "        rectangle = UUIDRectangle(data[i,0], data[i,0], data[i,0], data[i,0], i)\n",
    "        rectangles.append(rectangle)\n",
    "    \n",
    "    return rectangles"
   ]
  },
  {
   "cell_type": "code",
   "execution_count": 50,
   "id": "ancient-welcome",
   "metadata": {},
   "outputs": [],
   "source": [
    "def CreateSetOfRectangles(rectangles):\n",
    "    rectangle_set = set()\n",
    "    \n",
    "    for i, r in enumerate(rectangles):\n",
    "        rectangle_set.add(r)\n",
    "        \n",
    "    return rectangle_set"
   ]
  },
  {
   "cell_type": "code",
   "execution_count": 51,
   "id": "fabulous-strategy",
   "metadata": {},
   "outputs": [],
   "source": [
    "rectangle_set = CreateSetOfRectangles(rectangles)"
   ]
  },
  {
   "cell_type": "code",
   "execution_count": 52,
   "id": "extensive-image",
   "metadata": {},
   "outputs": [],
   "source": [
    "def GetIntersectionMembers(curr, rectangles):\n",
    "    remainder = rectangles\n",
    "\n",
    "    # x axis\n",
    "    remainder.sort(key=lambda r: r.x + r.width)\n",
    "    list_bc2 = [r.x + r.width for r in remainder] \n",
    "    idx = bisect_right(list_bc2, curr.x)\n",
    "    remainder = remainder[max(0,idx):]\n",
    "\n",
    "    remainder.sort(key=lambda r: r.x)\n",
    "    list_bc1 = [r.x for r in remainder] \n",
    "    idx = bisect_left(list_bc1, curr.x + curr.width)\n",
    "    remainder = remainder[0:min(idx, len(remainder))]\n",
    "\n",
    "    # y axis\n",
    "    remainder.sort(key=lambda r: r.y + r.height)\n",
    "    list_bc2 = [r.y + r.height for r in remainder] \n",
    "    idx = bisect_right(list_bc2, curr.y)\n",
    "    remainder = remainder[max(0,idx):]\n",
    "\n",
    "    remainder.sort(key=lambda r: r.y)\n",
    "    list_bc1 = [r.y for r in remainder] \n",
    "    idx = bisect_left(list_bc1, curr.y + curr.height)\n",
    "    remainder = remainder[0:min(idx, len(remainder))]\n",
    "    \n",
    "    intersection_members = remainder\n",
    "    \n",
    "    return intersection_members\n",
    "    "
   ]
  },
  {
   "cell_type": "code",
   "execution_count": 112,
   "id": "incident-saint",
   "metadata": {},
   "outputs": [],
   "source": [
    "def FindMaximalSetsFromRectanglesRecursion(max_sets, max_sets_uuids, rectangle, rectangles):\n",
    "    intersection_members = GetIntersectionMembers(rectangle, rectangles)\n",
    "    is_max_set = True\n",
    "\n",
    "    for i, candidate in enumerate(intersection_members):\n",
    "        if candidate.uuid == rectangle.uuid: continue\n",
    "\n",
    "        candidate_intersection_members = GetIntersectionMembers(candidate, intersection_members)\n",
    "        if set(candidate_intersection_members) != set(intersection_members):\n",
    "            is_max_set = False\n",
    "            FindMaximalSetsFromRectanglesRecursion(max_sets, max_sets_uuids, candidate,\n",
    "                    list(set(candidate_intersection_members) - set(intersection_members)) \\\n",
    "                    + list(set(intersection_members) - set(candidate_intersection_members)))\n",
    "        else: # max set\n",
    "            max_set = True\n",
    "            break\n",
    "\n",
    "    if is_max_set:\n",
    "        max_sets.append(intersection_members)\n",
    "        uuids = [m.uuid for m in intersection_members]\n",
    "        max_sets_uuids.update(uuids)\n",
    "    \n",
    "    return max_sets, max_sets_uuids"
   ]
  },
  {
   "cell_type": "code",
   "execution_count": 113,
   "id": "changing-dakota",
   "metadata": {},
   "outputs": [],
   "source": [
    "def OuterLoop(rectangles):\n",
    "    max_sets = []\n",
    "    uuids = set()\n",
    "\n",
    "    for rectangle in rectangles:\n",
    "        if rectangle.uuid in uuids: continue\n",
    "        max_sets, uuids = FindMaximalSetsFromRectanglesRecursion(max_sets, uuids, rectangle, rectangles)\n",
    "\n",
    "    return max_sets"
   ]
  },
  {
   "cell_type": "code",
   "execution_count": 114,
   "id": "intended-teddy",
   "metadata": {
    "scrolled": true
   },
   "outputs": [
    {
     "name": "stdout",
     "output_type": "stream",
     "text": [
      "4, 1, 2\n",
      "3\n",
      "\n",
      "\n"
     ]
    }
   ],
   "source": [
    "rectangle_1 = UUIDRectangle(1, 1, 5, 5, 1)\n",
    "rectangle_2 = UUIDRectangle(4, 4, 3, 3, 2)\n",
    "rectangle_3 = UUIDRectangle(6, 1, 1, 1, 3)\n",
    "rectangle_4 = UUIDRectangle(2, 2, 3, 3, 4)\n",
    "rectangle_5 = UUIDRectangle(1, 4, 1, 3, 5)\n",
    "\n",
    "rectangles = [rectangle_1, rectangle_2, rectangle_3, rectangle_4, rectangle_5] \n",
    "\n",
    "PrintMaximalSets(OuterLoop(rectangles))"
   ]
  },
  {
   "cell_type": "code",
   "execution_count": 56,
   "id": "naval-agent",
   "metadata": {
    "scrolled": true
   },
   "outputs": [
    {
     "name": "stdout",
     "output_type": "stream",
     "text": [
      "42, 43, 3, 8, 16, 23, 38, 1, 39, 13, 37, 24, 17, 27, 31, 32, 46, 12, 25, 28, 0, 5, 14, 18, 21, 22, 45\n",
      "19, 36, 41, 7, 47, 49\n",
      "33, 34, 48\n",
      "\n",
      "\n"
     ]
    }
   ],
   "source": [
    "maximal_sets = []\n",
    "uuids = set()\n",
    "rectangles = CreateRectanglesFromData()[0:50]\n",
    "PrintMaximalSets(FindMaximalSetsFromRectanglesRecursion(maximal_sets, uuids, rectangles))"
   ]
  },
  {
   "cell_type": "code",
   "execution_count": 25,
   "id": "contrary-blame",
   "metadata": {},
   "outputs": [
    {
     "data": {
      "text/plain": [
       "100"
      ]
     },
     "execution_count": 25,
     "metadata": {},
     "output_type": "execute_result"
    }
   ],
   "source": [
    "len(rectangles)"
   ]
  },
  {
   "cell_type": "code",
   "execution_count": null,
   "id": "amateur-value",
   "metadata": {},
   "outputs": [],
   "source": []
  }
 ],
 "metadata": {
  "kernelspec": {
   "display_name": "venv",
   "language": "python",
   "name": "venv"
  },
  "language_info": {
   "codemirror_mode": {
    "name": "ipython",
    "version": 3
   },
   "file_extension": ".py",
   "mimetype": "text/x-python",
   "name": "python",
   "nbconvert_exporter": "python",
   "pygments_lexer": "ipython3",
   "version": "3.8.5"
  }
 },
 "nbformat": 4,
 "nbformat_minor": 5
}
