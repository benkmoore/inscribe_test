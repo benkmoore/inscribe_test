{
 "cells": [
  {
   "cell_type": "code",
   "execution_count": 1,
   "id": "equipped-period",
   "metadata": {},
   "outputs": [],
   "source": [
    "class Rectangle():\n",
    "    def __init__(self, x, y, width, height):\n",
    "        self.x = x\n",
    "        self.y = y\n",
    "        self.width = width\n",
    "        self.height = height\n",
    "        \n",
    "    def GetCentroid(self):\n",
    "        return (self.x + self.width/2.0, self.y + self.height/2.0)"
   ]
  },
  {
   "cell_type": "code",
   "execution_count": 2,
   "id": "seasonal-midwest",
   "metadata": {},
   "outputs": [],
   "source": [
    "class UUIDRectangle(Rectangle):\n",
    "    def __init__(self, x, y, width, height, uuid):\n",
    "        super().__init__(x, y, width, height)\n",
    "        self.assigned_to_set = False\n",
    "        self.uuid = uuid"
   ]
  },
  {
   "cell_type": "code",
   "execution_count": 3,
   "id": "surprising-trail",
   "metadata": {},
   "outputs": [],
   "source": [
    "def CheckIntersectionOfRectangle(a, b):\n",
    "    # Check if rectangles are either side of eachother\n",
    "    if (a.x >= b.x + b.width or b.x >= a.x + a.width):\n",
    "        return False;\n",
    "    \n",
    "    # Check if rectangles are above or below eachother\n",
    "    if (a.y >= b.y + b.height or b.y >= a.y + a.height):\n",
    "        return False;\n",
    "    \n",
    "    return True"
   ]
  },
  {
   "cell_type": "code",
   "execution_count": 4,
   "id": "together-flour",
   "metadata": {},
   "outputs": [],
   "source": [
    "def CheckCandidateIntersectsWithSetMembers(candidate, maximal_set):    \n",
    "    for rectangle in maximal_set:\n",
    "        if not CheckIntersectionOfRectangle(candidate, rectangle):\n",
    "            return False\n",
    "        \n",
    "    return True"
   ]
  },
  {
   "cell_type": "code",
   "execution_count": 5,
   "id": "european-pursuit",
   "metadata": {},
   "outputs": [],
   "source": [
    "# Unit test x axis\n",
    "rectangle_a = Rectangle(0, 0, 5, 5)\n",
    "rectangle_b = Rectangle(0, 1, 5, 5)\n",
    "assert CheckIntersectionOfRectangle(rectangle_a, rectangle_b) == True\n",
    "\n",
    "# Unit test x axis\n",
    "rectangle_a = Rectangle(0, 0, 5, 5)\n",
    "rectangle_b = Rectangle(0, 30, 5, 5)\n",
    "assert CheckIntersectionOfRectangle(rectangle_a, rectangle_b) == False"
   ]
  },
  {
   "cell_type": "code",
   "execution_count": 6,
   "id": "academic-guide",
   "metadata": {},
   "outputs": [],
   "source": [
    "# Unit test y axis\n",
    "rectangle_a = Rectangle(0, 0, 5, 5)\n",
    "rectangle_b = Rectangle(1, 0, 5, 5)\n",
    "assert CheckIntersectionOfRectangle(rectangle_a, rectangle_b) == True\n",
    "\n",
    "# Unit test y axis\n",
    "rectangle_a = Rectangle(0, 0, 5, 5)\n",
    "rectangle_b = Rectangle(30, 0, 5, 5)\n",
    "assert CheckIntersectionOfRectangle(rectangle_a, rectangle_b) == False"
   ]
  },
  {
   "cell_type": "code",
   "execution_count": 7,
   "id": "cosmetic-islam",
   "metadata": {},
   "outputs": [],
   "source": [
    "# Unit test same lower left corner point\n",
    "rectangle_a = Rectangle(0, 0, 5, 5)\n",
    "rectangle_b = Rectangle(0, 0, 5, 5)\n",
    "assert CheckIntersectionOfRectangle(rectangle_a, rectangle_b) == True\n",
    "\n",
    "# Unit test lower left corner and upper right corner\n",
    "rectangle_a = Rectangle(0, 0, 5, 5)\n",
    "rectangle_b = Rectangle(5, 5, 5, 5)\n",
    "assert CheckIntersectionOfRectangle(rectangle_a, rectangle_b) == False"
   ]
  },
  {
   "cell_type": "code",
   "execution_count": 8,
   "id": "light-spouse",
   "metadata": {},
   "outputs": [],
   "source": [
    "def PrintMaximalSet(maximal_set):\n",
    "    for i, rectangle in enumerate(maximal_set):\n",
    "        if i < len(maximal_set) - 1:\n",
    "            print(\"{}, \".format(rectangle.uuid), end = '')\n",
    "        else: \n",
    "            print(\"{}\".format(rectangle.uuid), end = '')"
   ]
  },
  {
   "cell_type": "code",
   "execution_count": 9,
   "id": "civilian-laser",
   "metadata": {},
   "outputs": [],
   "source": [
    "def PrintMaximalSets(maximal_sets):\n",
    "    for maximal_set in sorted(maximal_sets, key=len, reverse=True):\n",
    "        PrintMaximalSet(maximal_set)\n",
    "        print('')"
   ]
  },
  {
   "cell_type": "code",
   "execution_count": 10,
   "id": "shaped-mineral",
   "metadata": {},
   "outputs": [],
   "source": [
    "def FindMaximalSetsFromRectangles(rectangles):\n",
    "    maximal_sets = []\n",
    "    \n",
    "    for rectangle in rectangles:\n",
    "        if rectangle.assigned_to_set: continue\n",
    "\n",
    "        single_maximal_set = []\n",
    "        single_maximal_set.append(rectangle)\n",
    "        rectangle.assigned_to_set = True\n",
    "\n",
    "        for rectangle_set_candidate in rectangles:\n",
    "            if rectangle_set_candidate.uuid == rectangle.uuid: continue\n",
    "            if CheckIntersectionOfRectangle(rectangle, rectangle_set_candidate) \\\n",
    "                and CheckCandidateIntersectsWithSetMembers(rectangle_set_candidate, single_maximal_set):\n",
    "                single_maximal_set.append(rectangle_set_candidate)\n",
    "                rectangle_set_candidate.assigned_to_set = True\n",
    "        maximal_sets.append(single_maximal_set)\n",
    "    \n",
    "    return maximal_sets"
   ]
  },
  {
   "cell_type": "code",
   "execution_count": 15,
   "id": "guided-nomination",
   "metadata": {},
   "outputs": [
    {
     "name": "stdout",
     "output_type": "stream",
     "text": [
      "1, 2, 4\n",
      "5, 1\n",
      "3\n"
     ]
    }
   ],
   "source": [
    "rectangle_1 = UUIDRectangle(1, 1, 5, 5, 1)\n",
    "rectangle_2 = UUIDRectangle(4, 4, 3, 3, 2)\n",
    "rectangle_3 = UUIDRectangle(6, 1, 1, 1, 3)\n",
    "rectangle_4 = UUIDRectangle(2, 2, 3, 3, 4)\n",
    "rectangle_5 = UUIDRectangle(1, 4, 1, 3, 5)\n",
    "\n",
    "rectangles = [rectangle_1, rectangle_2, rectangle_3, rectangle_4, rectangle_5]\n",
    "\n",
    "maximal_sets = FindMaximalSetsFromRectangles(rectangles)\n",
    "            \n",
    "PrintMaximalSets(maximal_sets)"
   ]
  },
  {
   "cell_type": "code",
   "execution_count": null,
   "id": "later-complexity",
   "metadata": {},
   "outputs": [],
   "source": []
  }
 ],
 "metadata": {
  "kernelspec": {
   "display_name": "venv",
   "language": "python",
   "name": "venv"
  },
  "language_info": {
   "codemirror_mode": {
    "name": "ipython",
    "version": 3
   },
   "file_extension": ".py",
   "mimetype": "text/x-python",
   "name": "python",
   "nbconvert_exporter": "python",
   "pygments_lexer": "ipython3",
   "version": "3.8.5"
  }
 },
 "nbformat": 4,
 "nbformat_minor": 5
}
