{
 "cells": [
  {
   "cell_type": "code",
   "execution_count": 4,
   "id": "charming-attraction",
   "metadata": {},
   "outputs": [],
   "source": [
    "from src.maximal_sets import FindMaximalSets\n",
    "from src.rectangle import UUIDRectangle\n",
    "from src.utils import PrintMaximalSets"
   ]
  },
  {
   "cell_type": "code",
   "execution_count": 8,
   "id": "light-genetics",
   "metadata": {},
   "outputs": [
    {
     "name": "stdout",
     "output_type": "stream",
     "text": [
      "{1, 2, 4}\n",
      "{1, 5}\n",
      "{3}\n"
     ]
    }
   ],
   "source": [
    "rectangle_1 = UUIDRectangle(1, 1, 5, 5, 1)\n",
    "rectangle_2 = UUIDRectangle(4, 4, 3, 3, 2)\n",
    "rectangle_3 = UUIDRectangle(6, 1, 1, 1, 3)\n",
    "rectangle_4 = UUIDRectangle(2, 2, 3, 3, 4)\n",
    "rectangle_5 = UUIDRectangle(1, 4, 1, 3, 5)\n",
    "rectangles = [rectangle_1, rectangle_2, rectangle_3, rectangle_4, rectangle_5]\n",
    "\n",
    "max_sets_found = FindMaximalSets(rectangles)\n",
    "print(*max_sets_found, sep = \"\\n\")"
   ]
  },
  {
   "cell_type": "code",
   "execution_count": null,
   "id": "quarterly-property",
   "metadata": {},
   "outputs": [],
   "source": []
  }
 ],
 "metadata": {
  "kernelspec": {
   "display_name": "venv",
   "language": "python",
   "name": "venv"
  },
  "language_info": {
   "codemirror_mode": {
    "name": "ipython",
    "version": 3
   },
   "file_extension": ".py",
   "mimetype": "text/x-python",
   "name": "python",
   "nbconvert_exporter": "python",
   "pygments_lexer": "ipython3",
   "version": "3.8.5"
  }
 },
 "nbformat": 4,
 "nbformat_minor": 5
}
