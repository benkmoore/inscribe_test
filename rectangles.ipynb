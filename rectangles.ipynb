{
 "cells": [
  {
   "cell_type": "markdown",
   "id": "noble-china",
   "metadata": {},
   "source": [
    "# Inscribe AI: rectangles challenge\n",
    "\n",
    "## Problem decomposition\n",
    "1. Check intersection between two rectangles x and y.\n",
    "2. Find all rectangles that intersect with rectangle x.\n",
    "3. Find set of rectangles in which all members intersect each other, a complete graph.\n",
    "4. Increase size of set until all other rectangles have been attempted to be added to set, a maximal set.\n",
    "5. Attempt all combinations for each rectangle with all other rectangles to form largest (maximal) set.\n",
    "6. If maximal set found compare to existing sets and store unique sets only.\n",
    "7. Print maximal sets.\n",
    "\n",
    "## Approach\n",
    "- Represent as a graph where each rectangle is a vertex with intersections represented by edges."
   ]
  },
  {
   "cell_type": "code",
   "execution_count": 1,
   "id": "charming-attraction",
   "metadata": {},
   "outputs": [],
   "source": [
    "from src.maximal_sets import FindMaximalSets\n",
    "from src.rectangle import UUIDRectangle\n",
    "from src.utils import PrintMaximalSets, CreateRectanglesFromData"
   ]
  },
  {
   "cell_type": "code",
   "execution_count": 2,
   "id": "light-genetics",
   "metadata": {},
   "outputs": [],
   "source": [
    "# Recreate example\n",
    "rectangle_1 = UUIDRectangle(1, 1, 5, 5, 1)\n",
    "rectangle_2 = UUIDRectangle(4, 4, 3, 3, 2)\n",
    "rectangle_3 = UUIDRectangle(6, 1, 1, 1, 3)\n",
    "rectangle_4 = UUIDRectangle(2, 2, 3, 3, 4)\n",
    "rectangle_5 = UUIDRectangle(1, 4, 1, 3, 5)\n",
    "rectangles = [rectangle_1, rectangle_2, rectangle_3, rectangle_4, rectangle_5]"
   ]
  },
  {
   "cell_type": "markdown",
   "id": "progressive-survival",
   "metadata": {},
   "source": [
    "## Bron Kerbosch (BK) search\n",
    "- Recursion with backtracking.\n",
    "- Time complexity is exponential: `O(3^(N/3))`, `N` = number of vertices in graph."
   ]
  },
  {
   "cell_type": "code",
   "execution_count": 3,
   "id": "incomplete-toner",
   "metadata": {},
   "outputs": [
    {
     "name": "stdout",
     "output_type": "stream",
     "text": [
      "{1, 2, 4}\n",
      "{1, 5}\n",
      "{3}\n"
     ]
    }
   ],
   "source": [
    "# Solve example\n",
    "max_sets_found = FindMaximalSets(rectangles)\n",
    "print(*max_sets_found, sep = \"\\n\")"
   ]
  },
  {
   "cell_type": "code",
   "execution_count": 4,
   "id": "blessed-chemistry",
   "metadata": {},
   "outputs": [
    {
     "name": "stdout",
     "output_type": "stream",
     "text": [
      "{0, 1, 3, 5, 8, 12, 13, 14, 16, 17, 18, 21, 22, 23, 24, 25, 27, 28}\n",
      "{1, 3, 8, 12, 13, 16, 17, 20, 23, 24, 25, 27, 28}\n",
      "{1, 2, 3, 6, 8, 11, 15, 16, 20, 23, 26, 29}\n",
      "{2, 20, 6, 7, 26, 11, 29, 15}\n",
      "{19, 7}\n",
      "{4}\n",
      "{9}\n",
      "{10}\n"
     ]
    }
   ],
   "source": [
    "# A larger data sample\n",
    "N = 30\n",
    "rectangles = CreateRectanglesFromData()[0:N]\n",
    "max_sets_found = FindMaximalSets(rectangles)\n",
    "print(*sorted(max_sets_found, key=len, reverse=True), sep = \"\\n\")"
   ]
  },
  {
   "cell_type": "markdown",
   "id": "gorgeous-warrant",
   "metadata": {},
   "source": [
    "## Time complexity\n",
    "- Handling exponential run time: can data structure be exploited?\n",
    "- See [data exploration](data_exploration.ipynb)"
   ]
  },
  {
   "cell_type": "markdown",
   "id": "speaking-symphony",
   "metadata": {},
   "source": [
    "## BK with pivot\n",
    "- Reduce recursive calls to non-maximal sets by leveraging the fact that either the next vertex, `v` or one of it's non-neighbors will be part of the maximal set. We check if this is a maximal set prior to making the above decision."
   ]
  },
  {
   "cell_type": "code",
   "execution_count": 5,
   "id": "opposed-married",
   "metadata": {
    "scrolled": true
   },
   "outputs": [
    {
     "name": "stdout",
     "output_type": "stream",
     "text": [
      "{0, 1, 3, 5, 8, 12, 13, 14, 16, 17, 18, 21, 22, 23, 24, 25, 27, 28}\n",
      "{1, 3, 8, 12, 13, 16, 17, 20, 23, 24, 25, 27, 28}\n",
      "{1, 2, 3, 6, 8, 11, 15, 16, 20, 23, 26, 29}\n",
      "{2, 20, 6, 7, 26, 11, 29, 15}\n",
      "{19, 7}\n",
      "{4}\n",
      "{9}\n",
      "{10}\n"
     ]
    }
   ],
   "source": [
    "max_sets_found = FindMaximalSets(rectangles, pivot=True)\n",
    "print(*sorted(max_sets_found, key=len, reverse=True), sep = \"\\n\")"
   ]
  },
  {
   "cell_type": "markdown",
   "id": "maritime-blair",
   "metadata": {},
   "source": [
    "## BK with vertex ordering by degree\n",
    "- Select outer level search vertices based on degree, `d`, largest first. Minimizes size of graph passed to subsequent recursive calls.\n",
    "- For sparse graphs run time: `O(d*N*3^(d/3))`, however the graph appears quite densely connected."
   ]
  },
  {
   "cell_type": "code",
   "execution_count": 6,
   "id": "heated-newport",
   "metadata": {},
   "outputs": [
    {
     "name": "stdout",
     "output_type": "stream",
     "text": [
      "{0, 1, 3, 5, 8, 12, 13, 14, 16, 17, 18, 21, 22, 23, 24, 25, 27, 28}\n",
      "{1, 3, 8, 12, 13, 16, 17, 20, 23, 24, 25, 27, 28}\n",
      "{1, 2, 3, 6, 8, 11, 15, 16, 20, 23, 26, 29}\n",
      "{2, 20, 6, 7, 26, 11, 29, 15}\n",
      "{19, 7}\n",
      "{4}\n",
      "{9}\n",
      "{10}\n"
     ]
    }
   ],
   "source": [
    "max_sets_found = FindMaximalSets(rectangles, by_degree=True)\n",
    "print(*sorted(max_sets_found, key=len, reverse=True), sep = \"\\n\")"
   ]
  },
  {
   "cell_type": "markdown",
   "id": "great-crossing",
   "metadata": {},
   "source": [
    "## BK deployed with multiprocessing"
   ]
  },
  {
   "cell_type": "code",
   "execution_count": 11,
   "id": "royal-hello",
   "metadata": {},
   "outputs": [
    {
     "name": "stdout",
     "output_type": "stream",
     "text": [
      "{0, 1, 3, 5, 8, 12, 13, 14, 16, 17, 18, 21, 22, 23, 24, 25, 27, 28, 31, 32, 37, 38, 39, 42, 43, 45, 46, 50, 52, 53, 54, 55, 58, 60, 61, 64, 65, 66, 70, 71, 73, 75, 76, 78, 79, 80, 81, 85, 86, 88, 91, 92, 93, 94, 98}\n",
      "{1, 3, 8, 12, 13, 16, 17, 20, 23, 24, 25, 27, 28, 31, 32, 37, 38, 39, 42, 43, 46, 50, 53, 54, 57, 58, 60, 61, 64, 65, 66, 70, 71, 73, 75, 76, 79, 80, 81, 83, 85, 88, 91, 92, 94, 98}\n",
      "{1, 2, 3, 6, 8, 11, 15, 16, 20, 23, 26, 29, 30, 38, 39, 42, 43, 44, 50, 53, 54, 57, 60, 61, 65, 66, 67, 69, 75, 76, 81, 83, 85, 87, 91, 92, 94, 99}\n",
      "{1, 3, 8, 13, 16, 20, 23, 24, 37, 38, 39, 42, 43, 44, 50, 53, 54, 57, 60, 61, 64, 65, 66, 70, 75, 76, 79, 81, 83, 85, 91, 92, 94, 98}\n",
      "{2, 6, 11, 15, 20, 26, 29, 30, 35, 40, 42, 43, 44, 50, 53, 57, 60, 66, 67, 69, 74, 75, 76, 83, 85, 87, 91, 99}\n",
      "{2, 6, 7, 11, 15, 26, 29, 30, 35, 36, 40, 41, 47, 49, 62, 67, 68, 69, 72, 74, 82, 87, 95, 96, 97, 99}\n",
      "{2, 6, 7, 11, 15, 20, 26, 29, 30, 35, 40, 44, 47, 49, 57, 62, 67, 68, 69, 74, 83, 87, 95, 96, 99}\n",
      "{96, 97, 68, 36, 7, 72, 41, 47, 49, 82, 19, 62, 95}\n",
      "{33, 34, 77, 48, 51, 84, 56, 89, 59}\n",
      "{4}\n",
      "{9}\n",
      "{10}\n",
      "{63}\n",
      "{90}\n"
     ]
    }
   ],
   "source": [
    "# Increase sample size, limited to 100 processes\n",
    "max_sets_found = FindMaximalSets(CreateRectanglesFromData()[0:100], multi_process=True)\n",
    "print(*sorted(max_sets_found, key=len, reverse=True), sep = \"\\n\")"
   ]
  },
  {
   "cell_type": "markdown",
   "id": "considered-senegal",
   "metadata": {},
   "source": [
    "## Appendix\n",
    "- Resources:\n",
    "    - https://en.wikipedia.org/wiki/Bron%E2%80%93Kerbosch_algorithm\n",
    "    - https://snap.stanford.edu/class/cs224w-readings/tomita06cliques.pdf"
   ]
  }
 ],
 "metadata": {
  "kernelspec": {
   "display_name": "venv",
   "language": "python",
   "name": "venv"
  },
  "language_info": {
   "codemirror_mode": {
    "name": "ipython",
    "version": 3
   },
   "file_extension": ".py",
   "mimetype": "text/x-python",
   "name": "python",
   "nbconvert_exporter": "python",
   "pygments_lexer": "ipython3",
   "version": "3.8.5"
  }
 },
 "nbformat": 4,
 "nbformat_minor": 5
}
