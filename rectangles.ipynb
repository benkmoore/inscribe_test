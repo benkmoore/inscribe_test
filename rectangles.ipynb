{
 "cells": [
  {
   "cell_type": "markdown",
   "id": "noble-china",
   "metadata": {},
   "source": [
    "# Inscribe AI: rectangles challenge\n",
    "\n",
    "## Problem decomposition\n",
    "1. Check intersection between two rectangles x and y.\n",
    "2. Find all rectangles that intersect with rectangle x.\n",
    "3. Find set of rectangles in which all members intersect each other, a complete graph.\n",
    "4. Increase size of set until all other rectangles have been attempted to be added to set, a maximal set.\n",
    "5. Attempt all combinations for each rectangle with all other rectangles to form largest (maximal) set.\n",
    "6. If maximal set found compare to existing sets and store unique sets only.\n",
    "7. Print maximal sets.\n",
    "\n",
    "## Approach\n",
    "- Represent as a graph where each rectangle is a vertex with intersections represented by edges."
   ]
  },
  {
   "cell_type": "code",
   "execution_count": 1,
   "id": "charming-attraction",
   "metadata": {},
   "outputs": [
    {
     "ename": "ImportError",
     "evalue": "cannot import name 'MultiProcess' from 'src.bron_kerbosch' (/home/ben/git/inscribe_test/src/bron_kerbosch.py)",
     "output_type": "error",
     "traceback": [
      "\u001b[0;31m---------------------------------------------------------------------------\u001b[0m",
      "\u001b[0;31mImportError\u001b[0m                               Traceback (most recent call last)",
      "\u001b[0;32m<ipython-input-1-9bac37cfa16f>\u001b[0m in \u001b[0;36m<module>\u001b[0;34m\u001b[0m\n\u001b[0;32m----> 1\u001b[0;31m \u001b[0;32mfrom\u001b[0m \u001b[0msrc\u001b[0m\u001b[0;34m.\u001b[0m\u001b[0mmaximal_sets\u001b[0m \u001b[0;32mimport\u001b[0m \u001b[0mFindMaximalSets\u001b[0m\u001b[0;34m\u001b[0m\u001b[0;34m\u001b[0m\u001b[0m\n\u001b[0m\u001b[1;32m      2\u001b[0m \u001b[0;32mfrom\u001b[0m \u001b[0msrc\u001b[0m\u001b[0;34m.\u001b[0m\u001b[0mrectangle\u001b[0m \u001b[0;32mimport\u001b[0m \u001b[0mUUIDRectangle\u001b[0m\u001b[0;34m\u001b[0m\u001b[0;34m\u001b[0m\u001b[0m\n\u001b[1;32m      3\u001b[0m \u001b[0;32mfrom\u001b[0m \u001b[0msrc\u001b[0m\u001b[0;34m.\u001b[0m\u001b[0mutils\u001b[0m \u001b[0;32mimport\u001b[0m \u001b[0mPrintMaximalSets\u001b[0m\u001b[0;34m,\u001b[0m \u001b[0mCreateRectanglesFromData\u001b[0m\u001b[0;34m\u001b[0m\u001b[0;34m\u001b[0m\u001b[0m\n",
      "\u001b[0;32m~/git/inscribe_test/src/maximal_sets.py\u001b[0m in \u001b[0;36m<module>\u001b[0;34m\u001b[0m\n\u001b[1;32m      1\u001b[0m \u001b[0;34m\u001b[0m\u001b[0m\n\u001b[1;32m      2\u001b[0m \u001b[0;32mfrom\u001b[0m \u001b[0msrc\u001b[0m\u001b[0;34m.\u001b[0m\u001b[0mutils\u001b[0m \u001b[0;32mimport\u001b[0m \u001b[0;34m*\u001b[0m\u001b[0;34m\u001b[0m\u001b[0;34m\u001b[0m\u001b[0m\n\u001b[0;32m----> 3\u001b[0;31m \u001b[0;32mfrom\u001b[0m \u001b[0msrc\u001b[0m\u001b[0;34m.\u001b[0m\u001b[0mbron_kerbosch\u001b[0m \u001b[0;32mimport\u001b[0m \u001b[0mBK\u001b[0m\u001b[0;34m,\u001b[0m \u001b[0mBKPivot\u001b[0m\u001b[0;34m,\u001b[0m \u001b[0mBKOrderByDegree\u001b[0m\u001b[0;34m,\u001b[0m \u001b[0mMultiProcess\u001b[0m\u001b[0;34m\u001b[0m\u001b[0;34m\u001b[0m\u001b[0m\n\u001b[0m\u001b[1;32m      4\u001b[0m \u001b[0;34m\u001b[0m\u001b[0m\n\u001b[1;32m      5\u001b[0m \u001b[0;34m\u001b[0m\u001b[0m\n",
      "\u001b[0;31mImportError\u001b[0m: cannot import name 'MultiProcess' from 'src.bron_kerbosch' (/home/ben/git/inscribe_test/src/bron_kerbosch.py)"
     ]
    }
   ],
   "source": [
    "from src.maximal_sets import FindMaximalSets\n",
    "from src.rectangle import UUIDRectangle\n",
    "from src.utils import PrintMaximalSets, CreateRectanglesFromData"
   ]
  },
  {
   "cell_type": "code",
   "execution_count": null,
   "id": "light-genetics",
   "metadata": {},
   "outputs": [],
   "source": [
    "# Recreate example\n",
    "rectangle_1 = UUIDRectangle(1, 1, 5, 5, 1)\n",
    "rectangle_2 = UUIDRectangle(4, 4, 3, 3, 2)\n",
    "rectangle_3 = UUIDRectangle(6, 1, 1, 1, 3)\n",
    "rectangle_4 = UUIDRectangle(2, 2, 3, 3, 4)\n",
    "rectangle_5 = UUIDRectangle(1, 4, 1, 3, 5)\n",
    "rectangles = [rectangle_1, rectangle_2, rectangle_3, rectangle_4, rectangle_5]"
   ]
  },
  {
   "cell_type": "markdown",
   "id": "laughing-louisiana",
   "metadata": {},
   "source": [
    "## Bron Kerbosch (BK) search\n",
    "- Recursion with backtracking.\n",
    "- Time complexity is exponential: `O(3^(N/3))`, `N` = number of vertices in graph."
   ]
  },
  {
   "cell_type": "code",
   "execution_count": null,
   "id": "lucky-cradle",
   "metadata": {},
   "outputs": [],
   "source": [
    "# Solve example\n",
    "max_sets_found = FindMaximalSets(rectangles)\n",
    "print(*max_sets_found, sep = \"\\n\")"
   ]
  },
  {
   "cell_type": "code",
   "execution_count": null,
   "id": "expired-identifier",
   "metadata": {},
   "outputs": [],
   "source": [
    "# A larger data sample\n",
    "N = 30\n",
    "rectangles = CreateRectanglesFromData()[0:N]\n",
    "max_sets_found = FindMaximalSets(rectangles)\n",
    "print(*sorted(max_sets_found, key=len, reverse=True), sep = \"\\n\")"
   ]
  },
  {
   "cell_type": "markdown",
   "id": "electoral-animal",
   "metadata": {},
   "source": [
    "## Time complexity\n",
    "- Handling exponential run time: can data structure be exploited?\n",
    "- See [data exploration](data_exploration.ipynb)"
   ]
  },
  {
   "cell_type": "markdown",
   "id": "cellular-party",
   "metadata": {},
   "source": [
    "## BK with pivot\n",
    "- Reduce recursive calls to non-maximal sets by leveraging the fact that either the next vertex, `v` or one of it's non-neighbors will be part of the maximal set. We check if this is a maximal set prior to making the above decision."
   ]
  },
  {
   "cell_type": "code",
   "execution_count": null,
   "id": "pressed-minneapolis",
   "metadata": {
    "scrolled": true
   },
   "outputs": [],
   "source": [
    "max_sets_found = FindMaximalSets(rectangles, pivot=True)\n",
    "print(*sorted(max_sets_found, key=len, reverse=True), sep = \"\\n\")"
   ]
  },
  {
   "cell_type": "markdown",
   "id": "difficult-cabinet",
   "metadata": {},
   "source": [
    "## BK with vertex ordering by degree\n",
    "- Select outer level search vertices based on degree, `d`, largest first. Minimizes size of graph passed to subsequent recursive calls.\n",
    "- For sparse graphs run time: `O(d*N*3^(d/3))`, however the graph appears quite densely connected."
   ]
  },
  {
   "cell_type": "code",
   "execution_count": null,
   "id": "binary-strand",
   "metadata": {},
   "outputs": [],
   "source": [
    "max_sets_found = FindMaximalSets(rectangles, by_degree=True)\n",
    "print(*sorted(max_sets_found, key=len, reverse=True), sep = \"\\n\")"
   ]
  },
  {
   "cell_type": "markdown",
   "id": "handy-preliminary",
   "metadata": {},
   "source": [
    "## BK deployed with multiprocessing"
   ]
  },
  {
   "cell_type": "code",
   "execution_count": null,
   "id": "reverse-worry",
   "metadata": {},
   "outputs": [],
   "source": [
    "max_sets_found = FindMaximalSets(CreateRectanglesFromData()[0:50], multi_process=True)\n",
    "print(*sorted(max_sets_found, key=len, reverse=True), sep = \"\\n\")"
   ]
  },
  {
   "cell_type": "markdown",
   "id": "willing-condition",
   "metadata": {},
   "source": [
    "## Appendix\n",
    "- Resources:\n",
    "    - https://en.wikipedia.org/wiki/Bron%E2%80%93Kerbosch_algorithm\n",
    "    - https://snap.stanford.edu/class/cs224w-readings/tomita06cliques.pdf"
   ]
  }
 ],
 "metadata": {
  "kernelspec": {
   "display_name": "venv",
   "language": "python",
   "name": "venv"
  },
  "language_info": {
   "codemirror_mode": {
    "name": "ipython",
    "version": 3
   },
   "file_extension": ".py",
   "mimetype": "text/x-python",
   "name": "python",
   "nbconvert_exporter": "python",
   "pygments_lexer": "ipython3",
   "version": "3.8.5"
  }
 },
 "nbformat": 4,
 "nbformat_minor": 5
}
